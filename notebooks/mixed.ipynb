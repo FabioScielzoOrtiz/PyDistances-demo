{
 "cells": [
  {
   "cell_type": "markdown",
   "metadata": {},
   "source": [
    "# `mixed`"
   ]
  },
  {
   "cell_type": "code",
   "execution_count": 1,
   "metadata": {},
   "outputs": [
    {
     "name": "stdout",
     "output_type": "stream",
     "text": [
      "Name: PyDistancesNote: you may need to restart the kernel to use updated packages.\n",
      "\n",
      "Version: 0.0.34\n",
      "Summary: PyDistances is a Python package for computing classic statistical distances as well as new proposals suitable for mixed multivariate data, even with outliers.\n",
      "Home-page: https://github.com/FabioScielzoOrtiz/PyDistances-package\n",
      "Author: Fabio Scielzo Ortiz\n",
      "Author-email: fabioscielzo98@gmail.com\n",
      "License: \n",
      "Location: c:\\Users\\fscielzo\\Documents\\Proyectos\\PyDistances\\PyDistances-demo\\.venv\\Lib\\site-packages\n",
      "Requires: \n",
      "Required-by: \n"
     ]
    }
   ],
   "source": [
    "pip show PyDistances"
   ]
  },
  {
   "cell_type": "code",
   "execution_count": 4,
   "metadata": {},
   "outputs": [],
   "source": [
    "import polars as pl\n",
    "import pandas as pd\n",
    "import numpy as np"
   ]
  },
  {
   "cell_type": "markdown",
   "metadata": {},
   "source": [
    "## Data"
   ]
  },
  {
   "cell_type": "code",
   "execution_count": 5,
   "metadata": {},
   "outputs": [],
   "source": [
    "data_url = \"https://raw.githubusercontent.com/FabioScielzoOrtiz/PyDistances-demo/refs/heads/main/data/madrid_houses_processed.csv\""
   ]
  },
  {
   "cell_type": "code",
   "execution_count": 6,
   "metadata": {},
   "outputs": [],
   "source": [
    "quant_cols = ['sq_mt_built', 'n_rooms', 'n_bathrooms', 'n_floors', 'buy_price']\n",
    "binary_cols = ['is_renewal_needed', 'has_lift', 'is_exterior', 'has_parking']\n",
    "multiclass_cols = ['energy_certificate', 'house_type']\n",
    "\n",
    "p1 = len(quant_cols)\n",
    "p2 = len(binary_cols)\n",
    "p3 = len(multiclass_cols)"
   ]
  },
  {
   "cell_type": "code",
   "execution_count": 7,
   "metadata": {},
   "outputs": [],
   "source": [
    "data_pl = pl.read_csv(data_url)\n",
    "data_pd = pd.read_csv(data_url)\n",
    "data_np = np.array(data_pd)\n",
    "\n",
    "xi_pl = data_pl[2,:]\n",
    "xr_pl = data_pl[10,:]\n",
    "\n",
    "xi_pd = data_pd.iloc[2,:]\n",
    "xr_pd = data_pd.iloc[10,:]\n",
    "\n",
    "xi_np = data_np[2,:]\n",
    "xr_np = data_np[10,:]"
   ]
  },
  {
   "cell_type": "markdown",
   "metadata": {},
   "source": [
    "## `GGowerDistMatrix`"
   ]
  },
  {
   "cell_type": "code",
   "execution_count": 20,
   "metadata": {},
   "outputs": [],
   "source": [
    "from PyDistances.mixed import GGowerDistMatrix"
   ]
  },
  {
   "cell_type": "code",
   "execution_count": 22,
   "metadata": {},
   "outputs": [],
   "source": [
    "ggower_dist_matrix = GGowerDistMatrix(p1=p1, p2=p2, p3=p3, d1=\"robust_mahalanobis\", d2=\"jaccard\", d3=\"hamming\",\n",
    "                                      robust_method=\"trimmed\", alpha=0.07, epsilon=0.05, n_iters=20, weights=None)"
   ]
  },
  {
   "cell_type": "code",
   "execution_count": 23,
   "metadata": {},
   "outputs": [
    {
     "data": {
      "text/plain": [
       "array([[0.        , 2.21871457, 1.93429293, ..., 1.94305438, 3.1223396 ,\n",
       "        2.26768279],\n",
       "       [2.21871457, 0.        , 1.22327246, ..., 2.38753004, 2.64304949,\n",
       "        2.00865696],\n",
       "       [1.93429293, 1.22327246, 0.        , ..., 2.36077974, 2.50019632,\n",
       "        1.63811682],\n",
       "       ...,\n",
       "       [1.94305438, 2.38753004, 2.36077974, ..., 0.        , 2.9036275 ,\n",
       "        1.75869492],\n",
       "       [3.1223396 , 2.64304949, 2.50019632, ..., 2.9036275 , 0.        ,\n",
       "        3.03987403],\n",
       "       [2.26768279, 2.00865696, 1.63811682, ..., 1.75869492, 3.03987403,\n",
       "        0.        ]])"
      ]
     },
     "execution_count": 23,
     "metadata": {},
     "output_type": "execute_result"
    }
   ],
   "source": [
    "ggower_dist_matrix.compute(X=data_pl)"
   ]
  },
  {
   "cell_type": "code",
   "execution_count": 24,
   "metadata": {},
   "outputs": [
    {
     "data": {
      "text/plain": [
       "array([[0.        , 2.21871457, 1.93429293, ..., 1.94305438, 3.1223396 ,\n",
       "        2.26768279],\n",
       "       [2.21871457, 0.        , 1.22327246, ..., 2.38753004, 2.64304949,\n",
       "        2.00865696],\n",
       "       [1.93429293, 1.22327246, 0.        , ..., 2.36077974, 2.50019632,\n",
       "        1.63811682],\n",
       "       ...,\n",
       "       [1.94305438, 2.38753004, 2.36077974, ..., 0.        , 2.9036275 ,\n",
       "        1.75869492],\n",
       "       [3.1223396 , 2.64304949, 2.50019632, ..., 2.9036275 , 0.        ,\n",
       "        3.03987403],\n",
       "       [2.26768279, 2.00865696, 1.63811682, ..., 1.75869492, 3.03987403,\n",
       "        0.        ]])"
      ]
     },
     "execution_count": 24,
     "metadata": {},
     "output_type": "execute_result"
    }
   ],
   "source": [
    "ggower_dist_matrix.compute(X=data_pd)"
   ]
  },
  {
   "cell_type": "code",
   "execution_count": 25,
   "metadata": {},
   "outputs": [
    {
     "data": {
      "text/plain": [
       "array([[0.        , 2.21871457, 1.93429293, ..., 1.94305438, 3.1223396 ,\n",
       "        2.26768279],\n",
       "       [2.21871457, 0.        , 1.22327246, ..., 2.38753004, 2.64304949,\n",
       "        2.00865696],\n",
       "       [1.93429293, 1.22327246, 0.        , ..., 2.36077974, 2.50019632,\n",
       "        1.63811682],\n",
       "       ...,\n",
       "       [1.94305438, 2.38753004, 2.36077974, ..., 0.        , 2.9036275 ,\n",
       "        1.75869492],\n",
       "       [3.1223396 , 2.64304949, 2.50019632, ..., 2.9036275 , 0.        ,\n",
       "        3.03987403],\n",
       "       [2.26768279, 2.00865696, 1.63811682, ..., 1.75869492, 3.03987403,\n",
       "        0.        ]])"
      ]
     },
     "execution_count": 25,
     "metadata": {},
     "output_type": "execute_result"
    }
   ],
   "source": [
    "ggower_dist_matrix.compute(X=data_np)"
   ]
  },
  {
   "cell_type": "markdown",
   "metadata": {},
   "source": [
    "## `GGowerDist`"
   ]
  },
  {
   "cell_type": "code",
   "execution_count": 36,
   "metadata": {},
   "outputs": [],
   "source": [
    "from PyDistances.mixed import GGowerDist"
   ]
  },
  {
   "cell_type": "code",
   "execution_count": 43,
   "metadata": {},
   "outputs": [],
   "source": [
    "ggower_dist = GGowerDist(p1=p1, p2=p2, p3=p3, d1=\"robust_mahalanobis\", d2=\"jaccard\", d3=\"hamming\",\n",
    "                         robust_method=\"trimmed\", alpha=0.07, epsilon=0.05, n_iters=20, weights=None)"
   ]
  },
  {
   "cell_type": "code",
   "execution_count": 44,
   "metadata": {},
   "outputs": [],
   "source": [
    "ggower_dist.fit(X=data_pl)"
   ]
  },
  {
   "cell_type": "code",
   "execution_count": 45,
   "metadata": {},
   "outputs": [
    {
     "data": {
      "text/plain": [
       "np.float64(1.7385809635103606)"
      ]
     },
     "execution_count": 45,
     "metadata": {},
     "output_type": "execute_result"
    }
   ],
   "source": [
    "ggower_dist.compute(xi=xi_pl, xr=xr_pl)"
   ]
  },
  {
   "cell_type": "code",
   "execution_count": 46,
   "metadata": {},
   "outputs": [],
   "source": [
    "ggower_dist.fit(X=data_pd)"
   ]
  },
  {
   "cell_type": "code",
   "execution_count": 47,
   "metadata": {},
   "outputs": [
    {
     "data": {
      "text/plain": [
       "np.float64(1.7385809635103606)"
      ]
     },
     "execution_count": 47,
     "metadata": {},
     "output_type": "execute_result"
    }
   ],
   "source": [
    "ggower_dist.compute(xi=xi_pd, xr=xr_pd)"
   ]
  },
  {
   "cell_type": "code",
   "execution_count": 48,
   "metadata": {},
   "outputs": [],
   "source": [
    "ggower_dist.fit(X=data_np)"
   ]
  },
  {
   "cell_type": "code",
   "execution_count": 49,
   "metadata": {},
   "outputs": [
    {
     "data": {
      "text/plain": [
       "np.float64(1.7385809635103606)"
      ]
     },
     "execution_count": 49,
     "metadata": {},
     "output_type": "execute_result"
    }
   ],
   "source": [
    "ggower_dist.compute(xi=xi_np, xr=xr_np)"
   ]
  },
  {
   "cell_type": "markdown",
   "metadata": {},
   "source": [
    "## `RelMSDistMatrix`"
   ]
  },
  {
   "cell_type": "code",
   "execution_count": 2,
   "metadata": {},
   "outputs": [],
   "source": [
    "from PyDistances.mixed import RelMSDistMatrix"
   ]
  },
  {
   "cell_type": "code",
   "execution_count": 8,
   "metadata": {},
   "outputs": [],
   "source": [
    "relms_dist_matrix = RelMSDistMatrix(p1=p1, p2=p2, p3=p3, d1=\"robust_mahalanobis\", d2=\"jaccard\", d3=\"hamming\",\n",
    "                                      robust_method=\"trimmed\", alpha=0.07, epsilon=0.05, n_iters=20, weights=None)"
   ]
  },
  {
   "cell_type": "code",
   "execution_count": 10,
   "metadata": {},
   "outputs": [
    {
     "data": {
      "text/plain": [
       "array([[ 0.        , 15.46117954, 15.40756806, ..., 15.32605925,\n",
       "        15.44377892, 15.52438765],\n",
       "       [15.46117867,  0.        , 15.3698612 , ..., 15.40913592,\n",
       "        15.39775349, 15.49629569],\n",
       "       [15.40756786, 15.36986068,  0.        , ..., 15.37663682,\n",
       "        15.30916165, 15.4579883 ],\n",
       "       ...,\n",
       "       [15.32605924, 15.40913592, 15.37663682, ...,  0.        ,\n",
       "        15.40950905, 15.37371301],\n",
       "       [15.44377893, 15.39775347, 15.30916165, ..., 15.40950905,\n",
       "         0.        , 15.52255903],\n",
       "       [15.5243876 , 15.49629553, 15.45798823, ..., 15.37371302,\n",
       "        15.52255903,  0.        ]])"
      ]
     },
     "execution_count": 10,
     "metadata": {},
     "output_type": "execute_result"
    }
   ],
   "source": [
    "relms_dist_matrix.compute(X=data_pd[0:2000])\n",
    "# Warning: for the whole sample, time > 23 mins."
   ]
  }
 ],
 "metadata": {
  "kernelspec": {
   "display_name": ".venv",
   "language": "python",
   "name": "python3"
  },
  "language_info": {
   "codemirror_mode": {
    "name": "ipython",
    "version": 3
   },
   "file_extension": ".py",
   "mimetype": "text/x-python",
   "name": "python",
   "nbconvert_exporter": "python",
   "pygments_lexer": "ipython3",
   "version": "3.12.0"
  }
 },
 "nbformat": 4,
 "nbformat_minor": 2
}
