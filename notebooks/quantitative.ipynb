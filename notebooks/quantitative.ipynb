{
 "cells": [
  {
   "cell_type": "code",
   "execution_count": 13,
   "metadata": {},
   "outputs": [
    {
     "name": "stdout",
     "output_type": "stream",
     "text": [
      "Name: PyDistances\n",
      "Version: 0.0.29\n",
      "Summary: PyDistances is a Python package for computing classic statistical distances as well as new proposals suitable for mixed multivariate data, even with outliers.\n",
      "Home-page: https://github.com/FabioScielzoOrtiz/PyDistances-package\n",
      "Author: Fabio Scielzo Ortiz\n",
      "Author-email: fabioscielzo98@gmail.com\n",
      "License: \n",
      "Location: c:\\Users\\fscielzo\\Documents\\Proyectos\\PyDistances\\PyDistances-demo\\.venv\\Lib\\site-packages\n",
      "Requires: \n",
      "Required-by: \n",
      "Note: you may need to restart the kernel to use updated packages.\n"
     ]
    }
   ],
   "source": [
    "pip show PyDistances"
   ]
  },
  {
   "cell_type": "code",
   "execution_count": 7,
   "metadata": {},
   "outputs": [],
   "source": [
    "import polars as pl\n",
    "import pandas as pd\n",
    "import numpy as np"
   ]
  },
  {
   "cell_type": "code",
   "execution_count": null,
   "metadata": {},
   "outputs": [],
   "source": [
    "data_url = \"\""
   ]
  },
  {
   "cell_type": "code",
   "execution_count": 9,
   "metadata": {},
   "outputs": [
    {
     "data": {
      "text/html": [
       "<div><style>\n",
       ".dataframe > thead > tr,\n",
       ".dataframe > tbody > tr {\n",
       "  text-align: right;\n",
       "  white-space: pre-wrap;\n",
       "}\n",
       "</style>\n",
       "<small>shape: (5, 11)</small><table border=\"1\" class=\"dataframe\"><thead><tr><th>sq_mt_built</th><th>n_rooms</th><th>n_bathrooms</th><th>n_floors</th><th>buy_price</th><th>is_renewal_needed</th><th>has_lift</th><th>is_exterior</th><th>has_parking</th><th>energy_certificate</th><th>house_type</th></tr><tr><td>f64</td><td>i64</td><td>i64</td><td>i64</td><td>i64</td><td>i64</td><td>i64</td><td>i64</td><td>i64</td><td>i64</td><td>i64</td></tr></thead><tbody><tr><td>64.0</td><td>2</td><td>1</td><td>1</td><td>85000</td><td>0</td><td>0</td><td>1</td><td>0</td><td>4</td><td>0</td></tr><tr><td>70.0</td><td>3</td><td>1</td><td>1</td><td>129900</td><td>1</td><td>1</td><td>1</td><td>0</td><td>0</td><td>0</td></tr><tr><td>94.0</td><td>2</td><td>2</td><td>1</td><td>144247</td><td>0</td><td>1</td><td>1</td><td>0</td><td>0</td><td>0</td></tr><tr><td>64.0</td><td>2</td><td>1</td><td>1</td><td>109900</td><td>0</td><td>1</td><td>1</td><td>0</td><td>0</td><td>0</td></tr><tr><td>108.0</td><td>2</td><td>2</td><td>1</td><td>260000</td><td>0</td><td>1</td><td>1</td><td>1</td><td>0</td><td>0</td></tr></tbody></table></div>"
      ],
      "text/plain": [
       "shape: (5, 11)\n",
       "┌────────────┬─────────┬────────────┬──────────┬───┬───────────┬───────────┬───────────┬───────────┐\n",
       "│ sq_mt_buil ┆ n_rooms ┆ n_bathroom ┆ n_floors ┆ … ┆ is_exteri ┆ has_parki ┆ energy_ce ┆ house_typ │\n",
       "│ t          ┆ ---     ┆ s          ┆ ---      ┆   ┆ or        ┆ ng        ┆ rtificate ┆ e         │\n",
       "│ ---        ┆ i64     ┆ ---        ┆ i64      ┆   ┆ ---       ┆ ---       ┆ ---       ┆ ---       │\n",
       "│ f64        ┆         ┆ i64        ┆          ┆   ┆ i64       ┆ i64       ┆ i64       ┆ i64       │\n",
       "╞════════════╪═════════╪════════════╪══════════╪═══╪═══════════╪═══════════╪═══════════╪═══════════╡\n",
       "│ 64.0       ┆ 2       ┆ 1          ┆ 1        ┆ … ┆ 1         ┆ 0         ┆ 4         ┆ 0         │\n",
       "│ 70.0       ┆ 3       ┆ 1          ┆ 1        ┆ … ┆ 1         ┆ 0         ┆ 0         ┆ 0         │\n",
       "│ 94.0       ┆ 2       ┆ 2          ┆ 1        ┆ … ┆ 1         ┆ 0         ┆ 0         ┆ 0         │\n",
       "│ 64.0       ┆ 2       ┆ 1          ┆ 1        ┆ … ┆ 1         ┆ 0         ┆ 0         ┆ 0         │\n",
       "│ 108.0      ┆ 2       ┆ 2          ┆ 1        ┆ … ┆ 1         ┆ 1         ┆ 0         ┆ 0         │\n",
       "└────────────┴─────────┴────────────┴──────────┴───┴───────────┴───────────┴───────────┴───────────┘"
      ]
     },
     "execution_count": 9,
     "metadata": {},
     "output_type": "execute_result"
    }
   ],
   "source": [
    "data_pl = pl.read_csv(data_path)\n",
    "data_pl.head()"
   ]
  },
  {
   "cell_type": "code",
   "execution_count": 10,
   "metadata": {},
   "outputs": [
    {
     "data": {
      "text/html": [
       "<div>\n",
       "<style scoped>\n",
       "    .dataframe tbody tr th:only-of-type {\n",
       "        vertical-align: middle;\n",
       "    }\n",
       "\n",
       "    .dataframe tbody tr th {\n",
       "        vertical-align: top;\n",
       "    }\n",
       "\n",
       "    .dataframe thead th {\n",
       "        text-align: right;\n",
       "    }\n",
       "</style>\n",
       "<table border=\"1\" class=\"dataframe\">\n",
       "  <thead>\n",
       "    <tr style=\"text-align: right;\">\n",
       "      <th></th>\n",
       "      <th>sq_mt_built</th>\n",
       "      <th>n_rooms</th>\n",
       "      <th>n_bathrooms</th>\n",
       "      <th>n_floors</th>\n",
       "      <th>buy_price</th>\n",
       "      <th>is_renewal_needed</th>\n",
       "      <th>has_lift</th>\n",
       "      <th>is_exterior</th>\n",
       "      <th>has_parking</th>\n",
       "      <th>energy_certificate</th>\n",
       "      <th>house_type</th>\n",
       "    </tr>\n",
       "  </thead>\n",
       "  <tbody>\n",
       "    <tr>\n",
       "      <th>0</th>\n",
       "      <td>64.0</td>\n",
       "      <td>2</td>\n",
       "      <td>1</td>\n",
       "      <td>1</td>\n",
       "      <td>85000</td>\n",
       "      <td>0</td>\n",
       "      <td>0</td>\n",
       "      <td>1</td>\n",
       "      <td>0</td>\n",
       "      <td>4</td>\n",
       "      <td>0</td>\n",
       "    </tr>\n",
       "    <tr>\n",
       "      <th>1</th>\n",
       "      <td>70.0</td>\n",
       "      <td>3</td>\n",
       "      <td>1</td>\n",
       "      <td>1</td>\n",
       "      <td>129900</td>\n",
       "      <td>1</td>\n",
       "      <td>1</td>\n",
       "      <td>1</td>\n",
       "      <td>0</td>\n",
       "      <td>0</td>\n",
       "      <td>0</td>\n",
       "    </tr>\n",
       "    <tr>\n",
       "      <th>2</th>\n",
       "      <td>94.0</td>\n",
       "      <td>2</td>\n",
       "      <td>2</td>\n",
       "      <td>1</td>\n",
       "      <td>144247</td>\n",
       "      <td>0</td>\n",
       "      <td>1</td>\n",
       "      <td>1</td>\n",
       "      <td>0</td>\n",
       "      <td>0</td>\n",
       "      <td>0</td>\n",
       "    </tr>\n",
       "    <tr>\n",
       "      <th>3</th>\n",
       "      <td>64.0</td>\n",
       "      <td>2</td>\n",
       "      <td>1</td>\n",
       "      <td>1</td>\n",
       "      <td>109900</td>\n",
       "      <td>0</td>\n",
       "      <td>1</td>\n",
       "      <td>1</td>\n",
       "      <td>0</td>\n",
       "      <td>0</td>\n",
       "      <td>0</td>\n",
       "    </tr>\n",
       "    <tr>\n",
       "      <th>4</th>\n",
       "      <td>108.0</td>\n",
       "      <td>2</td>\n",
       "      <td>2</td>\n",
       "      <td>1</td>\n",
       "      <td>260000</td>\n",
       "      <td>0</td>\n",
       "      <td>1</td>\n",
       "      <td>1</td>\n",
       "      <td>1</td>\n",
       "      <td>0</td>\n",
       "      <td>0</td>\n",
       "    </tr>\n",
       "  </tbody>\n",
       "</table>\n",
       "</div>"
      ],
      "text/plain": [
       "   sq_mt_built  n_rooms  n_bathrooms  n_floors  buy_price  is_renewal_needed  \\\n",
       "0         64.0        2            1         1      85000                  0   \n",
       "1         70.0        3            1         1     129900                  1   \n",
       "2         94.0        2            2         1     144247                  0   \n",
       "3         64.0        2            1         1     109900                  0   \n",
       "4        108.0        2            2         1     260000                  0   \n",
       "\n",
       "   has_lift  is_exterior  has_parking  energy_certificate  house_type  \n",
       "0         0            1            0                   4           0  \n",
       "1         1            1            0                   0           0  \n",
       "2         1            1            0                   0           0  \n",
       "3         1            1            0                   0           0  \n",
       "4         1            1            1                   0           0  "
      ]
     },
     "execution_count": 10,
     "metadata": {},
     "output_type": "execute_result"
    }
   ],
   "source": [
    "data_pd = pd.read_csv(data_path)\n",
    "data_pd.head()"
   ]
  },
  {
   "cell_type": "code",
   "execution_count": 12,
   "metadata": {},
   "outputs": [
    {
     "data": {
      "text/plain": [
       "array([[ 64.,   2.,   1., ...,   0.,   4.,   0.],\n",
       "       [ 70.,   3.,   1., ...,   0.,   0.,   0.],\n",
       "       [ 94.,   2.,   2., ...,   0.,   0.,   0.],\n",
       "       ...,\n",
       "       [175.,   4.,   2., ...,   1.,   3.,   0.],\n",
       "       [289.,   4.,   3., ...,   1.,   0.,   1.],\n",
       "       [ 72.,   2.,   2., ...,   1.,   7.,   0.]])"
      ]
     },
     "execution_count": 12,
     "metadata": {},
     "output_type": "execute_result"
    }
   ],
   "source": [
    "data_np = np.array(data_pd)\n",
    "data_np"
   ]
  },
  {
   "cell_type": "markdown",
   "metadata": {},
   "source": [
    "- `euclidean_dist_matrix`"
   ]
  },
  {
   "cell_type": "code",
   "execution_count": 5,
   "metadata": {},
   "outputs": [],
   "source": [
    "from PyDistances.quantitative import euclidean_dist_matrix"
   ]
  },
  {
   "cell_type": "code",
   "execution_count": 14,
   "metadata": {},
   "outputs": [
    {
     "data": {
      "text/plain": [
       "array([[     0.        ,  44900.00061247,  59247.00774723, ...,\n",
       "        595000.01035966, 610000.04152049, 339000.00011209],\n",
       "       [ 44900.00061247,      0.        ,  14347.02017842, ...,\n",
       "        550100.01003363, 565100.04244735, 294100.00009691],\n",
       "       [ 59247.00774723,  14347.02017842,      0.        , ...,\n",
       "        535753.00613716, 550753.03453181, 279753.00095441],\n",
       "       ...,\n",
       "       [595000.01035966, 550100.01003363, 535753.00613716, ...,\n",
       "             0.        ,  15000.43369373, 256000.02076172],\n",
       "       [610000.04152049, 565100.04244735, 550753.03453181, ...,\n",
       "         15000.43369373,      0.        , 271000.08699076],\n",
       "       [339000.00011209, 294100.00009691, 279753.00095441, ...,\n",
       "        256000.02076172, 271000.08699076,      0.        ]])"
      ]
     },
     "execution_count": 14,
     "metadata": {},
     "output_type": "execute_result"
    }
   ],
   "source": [
    "euclidean_dist_matrix(X=data_pl)"
   ]
  },
  {
   "cell_type": "code",
   "execution_count": 15,
   "metadata": {},
   "outputs": [
    {
     "data": {
      "text/plain": [
       "array([[     0.        ,  44900.00061247,  59247.00774723, ...,\n",
       "        595000.01035966, 610000.04152049, 339000.00011209],\n",
       "       [ 44900.00061247,      0.        ,  14347.02017842, ...,\n",
       "        550100.01003363, 565100.04244735, 294100.00009691],\n",
       "       [ 59247.00774723,  14347.02017842,      0.        , ...,\n",
       "        535753.00613716, 550753.03453181, 279753.00095441],\n",
       "       ...,\n",
       "       [595000.01035966, 550100.01003363, 535753.00613716, ...,\n",
       "             0.        ,  15000.43369373, 256000.02076172],\n",
       "       [610000.04152049, 565100.04244735, 550753.03453181, ...,\n",
       "         15000.43369373,      0.        , 271000.08699076],\n",
       "       [339000.00011209, 294100.00009691, 279753.00095441, ...,\n",
       "        256000.02076172, 271000.08699076,      0.        ]])"
      ]
     },
     "execution_count": 15,
     "metadata": {},
     "output_type": "execute_result"
    }
   ],
   "source": [
    "euclidean_dist_matrix(X=data_pd)"
   ]
  },
  {
   "cell_type": "code",
   "execution_count": 16,
   "metadata": {},
   "outputs": [
    {
     "data": {
      "text/plain": [
       "array([[     0.        ,  44900.00061247,  59247.00774723, ...,\n",
       "        595000.01035966, 610000.04152049, 339000.00011209],\n",
       "       [ 44900.00061247,      0.        ,  14347.02017842, ...,\n",
       "        550100.01003363, 565100.04244735, 294100.00009691],\n",
       "       [ 59247.00774723,  14347.02017842,      0.        , ...,\n",
       "        535753.00613716, 550753.03453181, 279753.00095441],\n",
       "       ...,\n",
       "       [595000.01035966, 550100.01003363, 535753.00613716, ...,\n",
       "             0.        ,  15000.43369373, 256000.02076172],\n",
       "       [610000.04152049, 565100.04244735, 550753.03453181, ...,\n",
       "         15000.43369373,      0.        , 271000.08699076],\n",
       "       [339000.00011209, 294100.00009691, 279753.00095441, ...,\n",
       "        256000.02076172, 271000.08699076,      0.        ]])"
      ]
     },
     "execution_count": 16,
     "metadata": {},
     "output_type": "execute_result"
    }
   ],
   "source": [
    "euclidean_dist_matrix(X=data_np)"
   ]
  }
 ],
 "metadata": {
  "kernelspec": {
   "display_name": ".venv",
   "language": "python",
   "name": "python3"
  },
  "language_info": {
   "codemirror_mode": {
    "name": "ipython",
    "version": 3
   },
   "file_extension": ".py",
   "mimetype": "text/x-python",
   "name": "python",
   "nbconvert_exporter": "python",
   "pygments_lexer": "ipython3",
   "version": "3.12.0"
  }
 },
 "nbformat": 4,
 "nbformat_minor": 2
}
