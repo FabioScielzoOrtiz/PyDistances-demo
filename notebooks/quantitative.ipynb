{
 "cells": [
  {
   "cell_type": "markdown",
   "metadata": {},
   "source": [
    "# `quantitative`"
   ]
  },
  {
   "cell_type": "code",
   "execution_count": 13,
   "metadata": {},
   "outputs": [
    {
     "name": "stdout",
     "output_type": "stream",
     "text": [
      "Name: PyDistances\n",
      "Version: 0.0.34\n",
      "Summary: PyDistances is a Python package for computing classic statistical distances as well as new proposals suitable for mixed multivariate data, even with outliers.\n",
      "Home-page: https://github.com/FabioScielzoOrtiz/PyDistances-package\n",
      "Author: Fabio Scielzo Ortiz\n",
      "Author-email: fabioscielzo98@gmail.com\n",
      "License: \n",
      "Location: c:\\Users\\fscielzo\\Documents\\Proyectos\\PyDistances\\PyDistances-demo\\.venv\\Lib\\site-packages\n",
      "Requires: \n",
      "Required-by: \n",
      "Note: you may need to restart the kernel to use updated packages.\n"
     ]
    }
   ],
   "source": [
    "pip show PyDistances"
   ]
  },
  {
   "cell_type": "code",
   "execution_count": 14,
   "metadata": {},
   "outputs": [],
   "source": [
    "import polars as pl\n",
    "import pandas as pd\n",
    "import numpy as np"
   ]
  },
  {
   "cell_type": "markdown",
   "metadata": {},
   "source": [
    "## Data"
   ]
  },
  {
   "cell_type": "code",
   "execution_count": 15,
   "metadata": {},
   "outputs": [],
   "source": [
    "data_url = \"https://raw.githubusercontent.com/FabioScielzoOrtiz/PyDistances-demo/refs/heads/main/data/madrid_houses_processed.csv\""
   ]
  },
  {
   "cell_type": "code",
   "execution_count": 16,
   "metadata": {},
   "outputs": [],
   "source": [
    "quant_cols = ['sq_mt_built', 'n_rooms', 'n_bathrooms', 'n_floors', 'buy_price']"
   ]
  },
  {
   "cell_type": "code",
   "execution_count": 17,
   "metadata": {},
   "outputs": [
    {
     "data": {
      "text/html": [
       "<div><style>\n",
       ".dataframe > thead > tr,\n",
       ".dataframe > tbody > tr {\n",
       "  text-align: right;\n",
       "  white-space: pre-wrap;\n",
       "}\n",
       "</style>\n",
       "<small>shape: (5, 11)</small><table border=\"1\" class=\"dataframe\"><thead><tr><th>sq_mt_built</th><th>n_rooms</th><th>n_bathrooms</th><th>n_floors</th><th>buy_price</th><th>is_renewal_needed</th><th>has_lift</th><th>is_exterior</th><th>has_parking</th><th>energy_certificate</th><th>house_type</th></tr><tr><td>f64</td><td>i64</td><td>i64</td><td>i64</td><td>i64</td><td>i64</td><td>i64</td><td>i64</td><td>i64</td><td>i64</td><td>i64</td></tr></thead><tbody><tr><td>64.0</td><td>2</td><td>1</td><td>1</td><td>85000</td><td>0</td><td>0</td><td>1</td><td>0</td><td>4</td><td>0</td></tr><tr><td>70.0</td><td>3</td><td>1</td><td>1</td><td>129900</td><td>1</td><td>1</td><td>1</td><td>0</td><td>0</td><td>0</td></tr><tr><td>94.0</td><td>2</td><td>2</td><td>1</td><td>144247</td><td>0</td><td>1</td><td>1</td><td>0</td><td>0</td><td>0</td></tr><tr><td>64.0</td><td>2</td><td>1</td><td>1</td><td>109900</td><td>0</td><td>1</td><td>1</td><td>0</td><td>0</td><td>0</td></tr><tr><td>108.0</td><td>2</td><td>2</td><td>1</td><td>260000</td><td>0</td><td>1</td><td>1</td><td>1</td><td>0</td><td>0</td></tr></tbody></table></div>"
      ],
      "text/plain": [
       "shape: (5, 11)\n",
       "┌────────────┬─────────┬────────────┬──────────┬───┬───────────┬───────────┬───────────┬───────────┐\n",
       "│ sq_mt_buil ┆ n_rooms ┆ n_bathroom ┆ n_floors ┆ … ┆ is_exteri ┆ has_parki ┆ energy_ce ┆ house_typ │\n",
       "│ t          ┆ ---     ┆ s          ┆ ---      ┆   ┆ or        ┆ ng        ┆ rtificate ┆ e         │\n",
       "│ ---        ┆ i64     ┆ ---        ┆ i64      ┆   ┆ ---       ┆ ---       ┆ ---       ┆ ---       │\n",
       "│ f64        ┆         ┆ i64        ┆          ┆   ┆ i64       ┆ i64       ┆ i64       ┆ i64       │\n",
       "╞════════════╪═════════╪════════════╪══════════╪═══╪═══════════╪═══════════╪═══════════╪═══════════╡\n",
       "│ 64.0       ┆ 2       ┆ 1          ┆ 1        ┆ … ┆ 1         ┆ 0         ┆ 4         ┆ 0         │\n",
       "│ 70.0       ┆ 3       ┆ 1          ┆ 1        ┆ … ┆ 1         ┆ 0         ┆ 0         ┆ 0         │\n",
       "│ 94.0       ┆ 2       ┆ 2          ┆ 1        ┆ … ┆ 1         ┆ 0         ┆ 0         ┆ 0         │\n",
       "│ 64.0       ┆ 2       ┆ 1          ┆ 1        ┆ … ┆ 1         ┆ 0         ┆ 0         ┆ 0         │\n",
       "│ 108.0      ┆ 2       ┆ 2          ┆ 1        ┆ … ┆ 1         ┆ 1         ┆ 0         ┆ 0         │\n",
       "└────────────┴─────────┴────────────┴──────────┴───┴───────────┴───────────┴───────────┴───────────┘"
      ]
     },
     "execution_count": 17,
     "metadata": {},
     "output_type": "execute_result"
    }
   ],
   "source": [
    "data_pl = pl.read_csv(data_url)\n",
    "data_pl.head()"
   ]
  },
  {
   "cell_type": "code",
   "execution_count": 18,
   "metadata": {},
   "outputs": [
    {
     "data": {
      "text/html": [
       "<div>\n",
       "<style scoped>\n",
       "    .dataframe tbody tr th:only-of-type {\n",
       "        vertical-align: middle;\n",
       "    }\n",
       "\n",
       "    .dataframe tbody tr th {\n",
       "        vertical-align: top;\n",
       "    }\n",
       "\n",
       "    .dataframe thead th {\n",
       "        text-align: right;\n",
       "    }\n",
       "</style>\n",
       "<table border=\"1\" class=\"dataframe\">\n",
       "  <thead>\n",
       "    <tr style=\"text-align: right;\">\n",
       "      <th></th>\n",
       "      <th>sq_mt_built</th>\n",
       "      <th>n_rooms</th>\n",
       "      <th>n_bathrooms</th>\n",
       "      <th>n_floors</th>\n",
       "      <th>buy_price</th>\n",
       "      <th>is_renewal_needed</th>\n",
       "      <th>has_lift</th>\n",
       "      <th>is_exterior</th>\n",
       "      <th>has_parking</th>\n",
       "      <th>energy_certificate</th>\n",
       "      <th>house_type</th>\n",
       "    </tr>\n",
       "  </thead>\n",
       "  <tbody>\n",
       "    <tr>\n",
       "      <th>0</th>\n",
       "      <td>64.0</td>\n",
       "      <td>2</td>\n",
       "      <td>1</td>\n",
       "      <td>1</td>\n",
       "      <td>85000</td>\n",
       "      <td>0</td>\n",
       "      <td>0</td>\n",
       "      <td>1</td>\n",
       "      <td>0</td>\n",
       "      <td>4</td>\n",
       "      <td>0</td>\n",
       "    </tr>\n",
       "    <tr>\n",
       "      <th>1</th>\n",
       "      <td>70.0</td>\n",
       "      <td>3</td>\n",
       "      <td>1</td>\n",
       "      <td>1</td>\n",
       "      <td>129900</td>\n",
       "      <td>1</td>\n",
       "      <td>1</td>\n",
       "      <td>1</td>\n",
       "      <td>0</td>\n",
       "      <td>0</td>\n",
       "      <td>0</td>\n",
       "    </tr>\n",
       "    <tr>\n",
       "      <th>2</th>\n",
       "      <td>94.0</td>\n",
       "      <td>2</td>\n",
       "      <td>2</td>\n",
       "      <td>1</td>\n",
       "      <td>144247</td>\n",
       "      <td>0</td>\n",
       "      <td>1</td>\n",
       "      <td>1</td>\n",
       "      <td>0</td>\n",
       "      <td>0</td>\n",
       "      <td>0</td>\n",
       "    </tr>\n",
       "    <tr>\n",
       "      <th>3</th>\n",
       "      <td>64.0</td>\n",
       "      <td>2</td>\n",
       "      <td>1</td>\n",
       "      <td>1</td>\n",
       "      <td>109900</td>\n",
       "      <td>0</td>\n",
       "      <td>1</td>\n",
       "      <td>1</td>\n",
       "      <td>0</td>\n",
       "      <td>0</td>\n",
       "      <td>0</td>\n",
       "    </tr>\n",
       "    <tr>\n",
       "      <th>4</th>\n",
       "      <td>108.0</td>\n",
       "      <td>2</td>\n",
       "      <td>2</td>\n",
       "      <td>1</td>\n",
       "      <td>260000</td>\n",
       "      <td>0</td>\n",
       "      <td>1</td>\n",
       "      <td>1</td>\n",
       "      <td>1</td>\n",
       "      <td>0</td>\n",
       "      <td>0</td>\n",
       "    </tr>\n",
       "  </tbody>\n",
       "</table>\n",
       "</div>"
      ],
      "text/plain": [
       "   sq_mt_built  n_rooms  n_bathrooms  n_floors  buy_price  is_renewal_needed  \\\n",
       "0         64.0        2            1         1      85000                  0   \n",
       "1         70.0        3            1         1     129900                  1   \n",
       "2         94.0        2            2         1     144247                  0   \n",
       "3         64.0        2            1         1     109900                  0   \n",
       "4        108.0        2            2         1     260000                  0   \n",
       "\n",
       "   has_lift  is_exterior  has_parking  energy_certificate  house_type  \n",
       "0         0            1            0                   4           0  \n",
       "1         1            1            0                   0           0  \n",
       "2         1            1            0                   0           0  \n",
       "3         1            1            0                   0           0  \n",
       "4         1            1            1                   0           0  "
      ]
     },
     "execution_count": 18,
     "metadata": {},
     "output_type": "execute_result"
    }
   ],
   "source": [
    "data_pd = pd.read_csv(data_url)\n",
    "data_pd.head()"
   ]
  },
  {
   "cell_type": "code",
   "execution_count": 19,
   "metadata": {},
   "outputs": [
    {
     "data": {
      "text/plain": [
       "array([[6.40000e+01, 2.00000e+00, 1.00000e+00, 1.00000e+00, 8.50000e+04],\n",
       "       [7.00000e+01, 3.00000e+00, 1.00000e+00, 1.00000e+00, 1.29900e+05],\n",
       "       [9.40000e+01, 2.00000e+00, 2.00000e+00, 1.00000e+00, 1.44247e+05],\n",
       "       ...,\n",
       "       [1.75000e+02, 4.00000e+00, 2.00000e+00, 1.00000e+00, 6.80000e+05],\n",
       "       [2.89000e+02, 4.00000e+00, 3.00000e+00, 3.00000e+00, 6.95000e+05],\n",
       "       [7.20000e+01, 2.00000e+00, 2.00000e+00, 1.00000e+00, 4.24000e+05]])"
      ]
     },
     "execution_count": 19,
     "metadata": {},
     "output_type": "execute_result"
    }
   ],
   "source": [
    "data_np = np.array(data_pd[quant_cols])\n",
    "data_np"
   ]
  },
  {
   "cell_type": "code",
   "execution_count": 20,
   "metadata": {},
   "outputs": [],
   "source": [
    "xi_pl = data_pl[quant_cols][2,:]\n",
    "xr_pl = data_pl[quant_cols][10,:]"
   ]
  },
  {
   "cell_type": "code",
   "execution_count": 21,
   "metadata": {},
   "outputs": [],
   "source": [
    "xi_pd = data_pd[quant_cols].iloc[2,:]\n",
    "xr_pd = data_pd[quant_cols].iloc[10,:]"
   ]
  },
  {
   "cell_type": "code",
   "execution_count": 22,
   "metadata": {},
   "outputs": [],
   "source": [
    "xi_np = data_np[2,:]\n",
    "xr_np = data_np[10,:]"
   ]
  },
  {
   "cell_type": "markdown",
   "metadata": {},
   "source": [
    "## `euclidean_dist_matrix`"
   ]
  },
  {
   "cell_type": "code",
   "execution_count": 23,
   "metadata": {},
   "outputs": [],
   "source": [
    "from PyDistances.quantitative import euclidean_dist_matrix"
   ]
  },
  {
   "cell_type": "code",
   "execution_count": 24,
   "metadata": {},
   "outputs": [
    {
     "data": {
      "text/plain": [
       "array([[     0.        ,  44900.00041203,  59247.00760376, ...,\n",
       "        595000.01035798, 610000.04150574, 339000.00009587],\n",
       "       [ 44900.00041203,      0.        ,  14347.02014357, ...,\n",
       "        550100.01002272, 565100.04244381, 294100.0000102 ],\n",
       "       [ 59247.00760376,  14347.02014357,      0.        , ...,\n",
       "        535753.00612689, 550753.03452909, 279753.00086505],\n",
       "       ...,\n",
       "       [595000.01035798, 550100.01002272, 535753.00612689, ...,\n",
       "             0.        ,  15000.43336041, 256000.02072851],\n",
       "       [610000.04150574, 565100.04244381, 550753.03452909, ...,\n",
       "         15000.43336041,      0.        , 271000.08689667],\n",
       "       [339000.00009587, 294100.0000102 , 279753.00086505, ...,\n",
       "        256000.02072851, 271000.08689667,      0.        ]])"
      ]
     },
     "execution_count": 24,
     "metadata": {},
     "output_type": "execute_result"
    }
   ],
   "source": [
    "euclidean_dist_matrix(X=data_pl[quant_cols])"
   ]
  },
  {
   "cell_type": "code",
   "execution_count": null,
   "metadata": {},
   "outputs": [
    {
     "data": {
      "text/plain": [
       "array([[     0.        ,  44900.00041203,  59247.00760376, ...,\n",
       "        595000.01035798, 610000.04150574, 339000.00009587],\n",
       "       [ 44900.00041203,      0.        ,  14347.02014357, ...,\n",
       "        550100.01002272, 565100.04244381, 294100.0000102 ],\n",
       "       [ 59247.00760376,  14347.02014357,      0.        , ...,\n",
       "        535753.00612689, 550753.03452909, 279753.00086505],\n",
       "       ...,\n",
       "       [595000.01035798, 550100.01002272, 535753.00612689, ...,\n",
       "             0.        ,  15000.43336041, 256000.02072851],\n",
       "       [610000.04150574, 565100.04244381, 550753.03452909, ...,\n",
       "         15000.43336041,      0.        , 271000.08689667],\n",
       "       [339000.00009587, 294100.0000102 , 279753.00086505, ...,\n",
       "        256000.02072851, 271000.08689667,      0.        ]])"
      ]
     },
     "execution_count": 13,
     "metadata": {},
     "output_type": "execute_result"
    }
   ],
   "source": [
    "euclidean_dist_matrix(X=data_pd[quant_cols])"
   ]
  },
  {
   "cell_type": "code",
   "execution_count": null,
   "metadata": {},
   "outputs": [
    {
     "data": {
      "text/plain": [
       "array([[     0.        ,  44900.00041203,  59247.00760376, ...,\n",
       "        595000.01035798, 610000.04150574, 339000.00009587],\n",
       "       [ 44900.00041203,      0.        ,  14347.02014357, ...,\n",
       "        550100.01002272, 565100.04244381, 294100.0000102 ],\n",
       "       [ 59247.00760376,  14347.02014357,      0.        , ...,\n",
       "        535753.00612689, 550753.03452909, 279753.00086505],\n",
       "       ...,\n",
       "       [595000.01035798, 550100.01002272, 535753.00612689, ...,\n",
       "             0.        ,  15000.43336041, 256000.02072851],\n",
       "       [610000.04150574, 565100.04244381, 550753.03452909, ...,\n",
       "         15000.43336041,      0.        , 271000.08689667],\n",
       "       [339000.00009587, 294100.0000102 , 279753.00086505, ...,\n",
       "        256000.02072851, 271000.08689667,      0.        ]])"
      ]
     },
     "execution_count": 14,
     "metadata": {},
     "output_type": "execute_result"
    }
   ],
   "source": [
    "euclidean_dist_matrix(X=data_np)"
   ]
  },
  {
   "cell_type": "markdown",
   "metadata": {},
   "source": [
    "## `euclidean_dist`"
   ]
  },
  {
   "cell_type": "code",
   "execution_count": null,
   "metadata": {},
   "outputs": [],
   "source": [
    "from PyDistances.quantitative import euclidean_dist"
   ]
  },
  {
   "cell_type": "code",
   "execution_count": null,
   "metadata": {},
   "outputs": [
    {
     "data": {
      "text/plain": [
       "26247.011906119904"
      ]
     },
     "execution_count": 16,
     "metadata": {},
     "output_type": "execute_result"
    }
   ],
   "source": [
    "euclidean_dist(xi=xi_pl, xr=xr_pl)"
   ]
  },
  {
   "cell_type": "code",
   "execution_count": null,
   "metadata": {},
   "outputs": [
    {
     "data": {
      "text/plain": [
       "26247.011906119904"
      ]
     },
     "execution_count": 17,
     "metadata": {},
     "output_type": "execute_result"
    }
   ],
   "source": [
    "euclidean_dist(xi=xi_pd, xr=xr_pd)"
   ]
  },
  {
   "cell_type": "code",
   "execution_count": null,
   "metadata": {},
   "outputs": [
    {
     "data": {
      "text/plain": [
       "26247.011906119904"
      ]
     },
     "execution_count": 18,
     "metadata": {},
     "output_type": "execute_result"
    }
   ],
   "source": [
    "euclidean_dist(xi=xi_np, xr=xr_np)"
   ]
  },
  {
   "cell_type": "markdown",
   "metadata": {},
   "source": [
    "## `minkowski_dist_matrix`"
   ]
  },
  {
   "cell_type": "code",
   "execution_count": null,
   "metadata": {},
   "outputs": [],
   "source": [
    "from PyDistances.quantitative import  minkowski_dist_matrix"
   ]
  },
  {
   "cell_type": "code",
   "execution_count": null,
   "metadata": {},
   "outputs": [
    {
     "data": {
      "text/plain": [
       "array([[     0.,  44907.,  59278., ..., 595114., 610231., 339009.],\n",
       "       [ 44907.,      0.,  14373., ..., 550207., 565324., 294104.],\n",
       "       [ 59278.,  14373.,      0., ..., 535836., 550953., 279775.],\n",
       "       ...,\n",
       "       [595114., 550207., 535836., ...,      0.,  15117., 256105.],\n",
       "       [610231., 565324., 550953., ...,  15117.,      0., 271222.],\n",
       "       [339009., 294104., 279775., ..., 256105., 271222.,      0.]])"
      ]
     },
     "execution_count": 20,
     "metadata": {},
     "output_type": "execute_result"
    }
   ],
   "source": [
    "minkowski_dist_matrix(X=data_pl[quant_cols], q=1)"
   ]
  },
  {
   "cell_type": "code",
   "execution_count": null,
   "metadata": {},
   "outputs": [
    {
     "data": {
      "text/plain": [
       "array([[     0.,  44907.,  59278., ..., 595114., 610231., 339009.],\n",
       "       [ 44907.,      0.,  14373., ..., 550207., 565324., 294104.],\n",
       "       [ 59278.,  14373.,      0., ..., 535836., 550953., 279775.],\n",
       "       ...,\n",
       "       [595114., 550207., 535836., ...,      0.,  15117., 256105.],\n",
       "       [610231., 565324., 550953., ...,  15117.,      0., 271222.],\n",
       "       [339009., 294104., 279775., ..., 256105., 271222.,      0.]])"
      ]
     },
     "execution_count": 21,
     "metadata": {},
     "output_type": "execute_result"
    }
   ],
   "source": [
    "minkowski_dist_matrix(X=data_pd[quant_cols], q=1)"
   ]
  },
  {
   "cell_type": "code",
   "execution_count": null,
   "metadata": {},
   "outputs": [
    {
     "data": {
      "text/plain": [
       "array([[     0.,  44907.,  59278., ..., 595114., 610231., 339009.],\n",
       "       [ 44907.,      0.,  14373., ..., 550207., 565324., 294104.],\n",
       "       [ 59278.,  14373.,      0., ..., 535836., 550953., 279775.],\n",
       "       ...,\n",
       "       [595114., 550207., 535836., ...,      0.,  15117., 256105.],\n",
       "       [610231., 565324., 550953., ...,  15117.,      0., 271222.],\n",
       "       [339009., 294104., 279775., ..., 256105., 271222.,      0.]])"
      ]
     },
     "execution_count": 22,
     "metadata": {},
     "output_type": "execute_result"
    }
   ],
   "source": [
    "minkowski_dist_matrix(X=data_np, q=1)"
   ]
  },
  {
   "cell_type": "markdown",
   "metadata": {},
   "source": [
    "## `minkowski_dist`"
   ]
  },
  {
   "cell_type": "code",
   "execution_count": null,
   "metadata": {},
   "outputs": [],
   "source": [
    "from PyDistances.quantitative import  minkowski_dist"
   ]
  },
  {
   "cell_type": "code",
   "execution_count": null,
   "metadata": {},
   "outputs": [
    {
     "data": {
      "text/plain": [
       "np.float64(26272.0)"
      ]
     },
     "execution_count": 24,
     "metadata": {},
     "output_type": "execute_result"
    }
   ],
   "source": [
    "minkowski_dist(xi=xi_pl, xr=xr_pl, q=1)"
   ]
  },
  {
   "cell_type": "code",
   "execution_count": null,
   "metadata": {},
   "outputs": [
    {
     "data": {
      "text/plain": [
       "np.float64(26272.0)"
      ]
     },
     "execution_count": 25,
     "metadata": {},
     "output_type": "execute_result"
    }
   ],
   "source": [
    "minkowski_dist(xi=xi_pd, xr=xr_pd, q=1)"
   ]
  },
  {
   "cell_type": "code",
   "execution_count": null,
   "metadata": {},
   "outputs": [
    {
     "data": {
      "text/plain": [
       "np.float64(26272.0)"
      ]
     },
     "execution_count": 26,
     "metadata": {},
     "output_type": "execute_result"
    }
   ],
   "source": [
    "minkowski_dist(xi=xi_np, xr=xr_np, q=1)"
   ]
  },
  {
   "cell_type": "markdown",
   "metadata": {},
   "source": [
    "## `canberra_dist_matrix`"
   ]
  },
  {
   "cell_type": "code",
   "execution_count": null,
   "metadata": {},
   "outputs": [],
   "source": [
    "from PyDistances.quantitative import canberra_dist_matrix"
   ]
  },
  {
   "cell_type": "code",
   "execution_count": null,
   "metadata": {},
   "outputs": [
    {
     "data": {
      "text/plain": [
       "array([[0.        , 0.45371051, 0.78164852, ..., 1.90887959, 2.75277838,\n",
       "        1.05816865],\n",
       "       [0.45371051, 0.        , 0.73200803, ..., 1.58398156, 2.43793773,\n",
       "        1.07838011],\n",
       "       [0.78164852, 0.73200803, 0.        , ..., 1.28443942, 2.19871833,\n",
       "        0.62483892],\n",
       "       ...,\n",
       "       [1.90887959, 1.58398156, 1.28443942, ..., 0.        , 0.95659875,\n",
       "        0.98222144],\n",
       "       [2.75277838, 2.43793773, 2.19871833, ..., 0.95659875, 0.        ,\n",
       "        1.87662188],\n",
       "       [1.05816865, 1.07838011, 0.62483892, ..., 0.98222144, 1.87662188,\n",
       "        0.        ]])"
      ]
     },
     "execution_count": 28,
     "metadata": {},
     "output_type": "execute_result"
    }
   ],
   "source": [
    "canberra_dist_matrix(X=data_pl[quant_cols])"
   ]
  },
  {
   "cell_type": "code",
   "execution_count": null,
   "metadata": {},
   "outputs": [
    {
     "data": {
      "text/plain": [
       "array([[0.        , 0.45371051, 0.78164852, ..., 1.90887959, 2.75277838,\n",
       "        1.05816865],\n",
       "       [0.45371051, 0.        , 0.73200803, ..., 1.58398156, 2.43793773,\n",
       "        1.07838011],\n",
       "       [0.78164852, 0.73200803, 0.        , ..., 1.28443942, 2.19871833,\n",
       "        0.62483892],\n",
       "       ...,\n",
       "       [1.90887959, 1.58398156, 1.28443942, ..., 0.        , 0.95659875,\n",
       "        0.98222144],\n",
       "       [2.75277838, 2.43793773, 2.19871833, ..., 0.95659875, 0.        ,\n",
       "        1.87662188],\n",
       "       [1.05816865, 1.07838011, 0.62483892, ..., 0.98222144, 1.87662188,\n",
       "        0.        ]])"
      ]
     },
     "execution_count": 29,
     "metadata": {},
     "output_type": "execute_result"
    }
   ],
   "source": [
    "canberra_dist_matrix(X=data_pd[quant_cols])"
   ]
  },
  {
   "cell_type": "code",
   "execution_count": null,
   "metadata": {},
   "outputs": [
    {
     "data": {
      "text/plain": [
       "array([[0.        , 0.45371051, 0.78164852, ..., 1.90887959, 2.75277838,\n",
       "        1.05816865],\n",
       "       [0.45371051, 0.        , 0.73200803, ..., 1.58398156, 2.43793773,\n",
       "        1.07838011],\n",
       "       [0.78164852, 0.73200803, 0.        , ..., 1.28443942, 2.19871833,\n",
       "        0.62483892],\n",
       "       ...,\n",
       "       [1.90887959, 1.58398156, 1.28443942, ..., 0.        , 0.95659875,\n",
       "        0.98222144],\n",
       "       [2.75277838, 2.43793773, 2.19871833, ..., 0.95659875, 0.        ,\n",
       "        1.87662188],\n",
       "       [1.05816865, 1.07838011, 0.62483892, ..., 0.98222144, 1.87662188,\n",
       "        0.        ]])"
      ]
     },
     "execution_count": 30,
     "metadata": {},
     "output_type": "execute_result"
    }
   ],
   "source": [
    "canberra_dist_matrix(X=data_np)"
   ]
  },
  {
   "cell_type": "markdown",
   "metadata": {},
   "source": [
    "## `canberra_dist`"
   ]
  },
  {
   "cell_type": "code",
   "execution_count": null,
   "metadata": {},
   "outputs": [],
   "source": [
    "from PyDistances.quantitative import canberra_dist"
   ]
  },
  {
   "cell_type": "code",
   "execution_count": null,
   "metadata": {},
   "outputs": [
    {
     "data": {
      "text/plain": [
       "np.float64(0.25345926746669145)"
      ]
     },
     "execution_count": 32,
     "metadata": {},
     "output_type": "execute_result"
    }
   ],
   "source": [
    "canberra_dist(xi=xi_pl, xr=xr_pl)"
   ]
  },
  {
   "cell_type": "code",
   "execution_count": null,
   "metadata": {},
   "outputs": [
    {
     "data": {
      "text/plain": [
       "np.float64(0.25345926746669145)"
      ]
     },
     "execution_count": 33,
     "metadata": {},
     "output_type": "execute_result"
    }
   ],
   "source": [
    "canberra_dist(xi=xi_pd, xr=xr_pd)"
   ]
  },
  {
   "cell_type": "code",
   "execution_count": null,
   "metadata": {},
   "outputs": [
    {
     "data": {
      "text/plain": [
       "np.float64(0.25345926746669145)"
      ]
     },
     "execution_count": 34,
     "metadata": {},
     "output_type": "execute_result"
    }
   ],
   "source": [
    "canberra_dist(xi=xi_np, xr=xr_np)"
   ]
  },
  {
   "cell_type": "markdown",
   "metadata": {},
   "source": [
    "## `pearson_dist_matrix`"
   ]
  },
  {
   "cell_type": "code",
   "execution_count": null,
   "metadata": {},
   "outputs": [],
   "source": [
    "from PyDistances.quantitative import pearson_dist_matrix"
   ]
  },
  {
   "cell_type": "code",
   "execution_count": null,
   "metadata": {},
   "outputs": [
    {
     "data": {
      "text/plain": [
       "array([[0.        , 0.66557805, 0.73750837, ..., 1.81426832, 3.76742474,\n",
       "        0.83385122],\n",
       "       [0.66557805, 0.        , 0.98231536, ..., 1.35816365, 3.56285077,\n",
       "        1.04162306],\n",
       "       [0.73750837, 0.98231536, 0.        , ..., 1.56993872, 3.47873654,\n",
       "        0.38187408],\n",
       "       ...,\n",
       "       [1.81426832, 1.35816365, 1.56993872, ..., 0.        , 2.98830222,\n",
       "        1.50055625],\n",
       "       [3.76742474, 3.56285077, 3.47873654, ..., 2.98830222, 0.        ,\n",
       "        3.4727102 ],\n",
       "       [0.83385122, 1.04162306, 0.38187408, ..., 1.50055625, 3.4727102 ,\n",
       "        0.        ]])"
      ]
     },
     "execution_count": 36,
     "metadata": {},
     "output_type": "execute_result"
    }
   ],
   "source": [
    "pearson_dist_matrix(X=data_pl[quant_cols])"
   ]
  },
  {
   "cell_type": "code",
   "execution_count": null,
   "metadata": {},
   "outputs": [
    {
     "data": {
      "text/plain": [
       "array([[0.        , 0.66557805, 0.73750837, ..., 1.81426832, 3.76742474,\n",
       "        0.83385122],\n",
       "       [0.66557805, 0.        , 0.98231536, ..., 1.35816365, 3.56285077,\n",
       "        1.04162306],\n",
       "       [0.73750837, 0.98231536, 0.        , ..., 1.56993872, 3.47873654,\n",
       "        0.38187408],\n",
       "       ...,\n",
       "       [1.81426832, 1.35816365, 1.56993872, ..., 0.        , 2.98830222,\n",
       "        1.50055625],\n",
       "       [3.76742474, 3.56285077, 3.47873654, ..., 2.98830222, 0.        ,\n",
       "        3.4727102 ],\n",
       "       [0.83385122, 1.04162306, 0.38187408, ..., 1.50055625, 3.4727102 ,\n",
       "        0.        ]])"
      ]
     },
     "execution_count": 37,
     "metadata": {},
     "output_type": "execute_result"
    }
   ],
   "source": [
    "pearson_dist_matrix(X=data_pd[quant_cols])"
   ]
  },
  {
   "cell_type": "code",
   "execution_count": null,
   "metadata": {},
   "outputs": [
    {
     "data": {
      "text/plain": [
       "array([[0.        , 0.66557805, 0.73750837, ..., 1.81426832, 3.76742474,\n",
       "        0.83385122],\n",
       "       [0.66557805, 0.        , 0.98231536, ..., 1.35816365, 3.56285077,\n",
       "        1.04162306],\n",
       "       [0.73750837, 0.98231536, 0.        , ..., 1.56993872, 3.47873654,\n",
       "        0.38187408],\n",
       "       ...,\n",
       "       [1.81426832, 1.35816365, 1.56993872, ..., 0.        , 2.98830222,\n",
       "        1.50055625],\n",
       "       [3.76742474, 3.56285077, 3.47873654, ..., 2.98830222, 0.        ,\n",
       "        3.4727102 ],\n",
       "       [0.83385122, 1.04162306, 0.38187408, ..., 1.50055625, 3.4727102 ,\n",
       "        0.        ]])"
      ]
     },
     "execution_count": 38,
     "metadata": {},
     "output_type": "execute_result"
    }
   ],
   "source": [
    "pearson_dist_matrix(X=data_np)"
   ]
  },
  {
   "cell_type": "markdown",
   "metadata": {},
   "source": [
    "### `mahalanobis_dist_matrix`"
   ]
  },
  {
   "cell_type": "code",
   "execution_count": null,
   "metadata": {},
   "outputs": [],
   "source": [
    "from PyDistances.quantitative import mahalanobis_dist_matrix"
   ]
  },
  {
   "cell_type": "code",
   "execution_count": null,
   "metadata": {},
   "outputs": [
    {
     "data": {
      "text/plain": [
       "array([[0.        , 0.98305366, 1.35352819, ..., 1.51225082, 2.9059013 ,\n",
       "        1.39140298],\n",
       "       [0.98305366, 0.        , 2.03435122, ..., 0.95079695, 2.95281549,\n",
       "        2.01444275],\n",
       "       [1.35352819, 2.03435122, 0.        , ..., 2.12708355, 3.26187536,\n",
       "        0.82635883],\n",
       "       ...,\n",
       "       [1.51225082, 0.95079695, 2.12708355, ..., 0.        , 3.28213849,\n",
       "        2.08421407],\n",
       "       [2.9059013 , 2.95281549, 3.26187536, ..., 3.28213849, 0.        ,\n",
       "        3.30618935],\n",
       "       [1.39140298, 2.01444275, 0.82635883, ..., 2.08421407, 3.30618935,\n",
       "        0.        ]])"
      ]
     },
     "execution_count": 40,
     "metadata": {},
     "output_type": "execute_result"
    }
   ],
   "source": [
    "mahalanobis_dist_matrix(X=data_pl[quant_cols])"
   ]
  },
  {
   "cell_type": "code",
   "execution_count": null,
   "metadata": {},
   "outputs": [
    {
     "data": {
      "text/plain": [
       "array([[0.        , 0.98305366, 1.35352819, ..., 1.51225082, 2.9059013 ,\n",
       "        1.39140298],\n",
       "       [0.98305366, 0.        , 2.03435122, ..., 0.95079695, 2.95281549,\n",
       "        2.01444275],\n",
       "       [1.35352819, 2.03435122, 0.        , ..., 2.12708355, 3.26187536,\n",
       "        0.82635883],\n",
       "       ...,\n",
       "       [1.51225082, 0.95079695, 2.12708355, ..., 0.        , 3.28213849,\n",
       "        2.08421407],\n",
       "       [2.9059013 , 2.95281549, 3.26187536, ..., 3.28213849, 0.        ,\n",
       "        3.30618935],\n",
       "       [1.39140298, 2.01444275, 0.82635883, ..., 2.08421407, 3.30618935,\n",
       "        0.        ]])"
      ]
     },
     "execution_count": 41,
     "metadata": {},
     "output_type": "execute_result"
    }
   ],
   "source": [
    "mahalanobis_dist_matrix(X=data_pd[quant_cols])"
   ]
  },
  {
   "cell_type": "code",
   "execution_count": null,
   "metadata": {},
   "outputs": [
    {
     "data": {
      "text/plain": [
       "array([[0.        , 0.98305366, 1.35352819, ..., 1.51225082, 2.9059013 ,\n",
       "        1.39140298],\n",
       "       [0.98305366, 0.        , 2.03435122, ..., 0.95079695, 2.95281549,\n",
       "        2.01444275],\n",
       "       [1.35352819, 2.03435122, 0.        , ..., 2.12708355, 3.26187536,\n",
       "        0.82635883],\n",
       "       ...,\n",
       "       [1.51225082, 0.95079695, 2.12708355, ..., 0.        , 3.28213849,\n",
       "        2.08421407],\n",
       "       [2.9059013 , 2.95281549, 3.26187536, ..., 3.28213849, 0.        ,\n",
       "        3.30618935],\n",
       "       [1.39140298, 2.01444275, 0.82635883, ..., 2.08421407, 3.30618935,\n",
       "        0.        ]])"
      ]
     },
     "execution_count": 42,
     "metadata": {},
     "output_type": "execute_result"
    }
   ],
   "source": [
    "mahalanobis_dist_matrix(X=data_np)"
   ]
  },
  {
   "cell_type": "markdown",
   "metadata": {},
   "source": [
    "## `mahalanobis_dist`"
   ]
  },
  {
   "cell_type": "code",
   "execution_count": null,
   "metadata": {},
   "outputs": [],
   "source": [
    "from PyDistances.quantitative import mahalanobis_dist"
   ]
  },
  {
   "cell_type": "code",
   "execution_count": null,
   "metadata": {},
   "outputs": [
    {
     "data": {
      "text/plain": [
       "np.float64(20524268507.123516)"
      ]
     },
     "execution_count": 44,
     "metadata": {},
     "output_type": "execute_result"
    }
   ],
   "source": [
    "S = np.cov(data_pd[quant_cols], rowvar=False)\n",
    "mahalanobis_dist(xi=xi_pd, xr=xr_pd, S=S)"
   ]
  },
  {
   "cell_type": "markdown",
   "metadata": {},
   "source": [
    "## `robust_maha_dist_matrix`"
   ]
  },
  {
   "cell_type": "code",
   "execution_count": null,
   "metadata": {},
   "outputs": [],
   "source": [
    "from PyDistances.quantitative import robust_maha_dist_matrix, S_robust"
   ]
  },
  {
   "cell_type": "code",
   "execution_count": null,
   "metadata": {},
   "outputs": [
    {
     "data": {
      "text/plain": [
       "array([[0.        , 1.07619417, 1.52755549, ..., 1.6039788 , 3.03495824,\n",
       "        1.64495744],\n",
       "       [1.07619417, 0.        , 2.26168841, ..., 0.93299896, 3.15055951,\n",
       "        2.09739707],\n",
       "       [1.52755549, 2.26168841, 0.        , ..., 2.39613957, 3.24280591,\n",
       "        1.28951587],\n",
       "       ...,\n",
       "       [1.6039788 , 0.93299896, 2.39613957, ..., 0.        , 3.48370099,\n",
       "        2.1326725 ],\n",
       "       [3.03495824, 3.15055951, 3.24280591, ..., 3.48370099, 0.        ,\n",
       "        3.52339443],\n",
       "       [1.64495744, 2.09739707, 1.28951587, ..., 2.1326725 , 3.52339443,\n",
       "        0.        ]])"
      ]
     },
     "execution_count": 68,
     "metadata": {},
     "output_type": "execute_result"
    }
   ],
   "source": [
    "S_robust_estimation = S_robust(X=data_pd[quant_cols], method=\"trimmed\", epsilon=0.05, \n",
    "                               n_iters=20, alpha=0.07, weights=None)\n",
    "\n",
    "\n",
    "robust_maha_dist_matrix(X=data_pd[quant_cols], S_robust=S_robust_estimation)"
   ]
  },
  {
   "cell_type": "code",
   "execution_count": null,
   "metadata": {},
   "outputs": [
    {
     "data": {
      "text/plain": [
       "array([[0.        , 1.07619417, 1.52755549, ..., 1.6039788 , 3.03495824,\n",
       "        1.64495744],\n",
       "       [1.07619417, 0.        , 2.26168841, ..., 0.93299896, 3.15055951,\n",
       "        2.09739707],\n",
       "       [1.52755549, 2.26168841, 0.        , ..., 2.39613957, 3.24280591,\n",
       "        1.28951587],\n",
       "       ...,\n",
       "       [1.6039788 , 0.93299896, 2.39613957, ..., 0.        , 3.48370099,\n",
       "        2.1326725 ],\n",
       "       [3.03495824, 3.15055951, 3.24280591, ..., 3.48370099, 0.        ,\n",
       "        3.52339443],\n",
       "       [1.64495744, 2.09739707, 1.28951587, ..., 2.1326725 , 3.52339443,\n",
       "        0.        ]])"
      ]
     },
     "execution_count": 53,
     "metadata": {},
     "output_type": "execute_result"
    }
   ],
   "source": [
    "S_robust_estimation = S_robust(X=data_pl[quant_cols], method=\"trimmed\", epsilon=0.05, \n",
    "                               n_iters=20, alpha=0.07, weights=None)\n",
    "\n",
    "\n",
    "robust_maha_dist_matrix(X=data_pl[quant_cols], S_robust=S_robust_estimation)"
   ]
  },
  {
   "cell_type": "code",
   "execution_count": null,
   "metadata": {},
   "outputs": [
    {
     "data": {
      "text/plain": [
       "array([[0.        , 1.07619417, 1.52755549, ..., 1.6039788 , 3.03495824,\n",
       "        1.64495744],\n",
       "       [1.07619417, 0.        , 2.26168841, ..., 0.93299896, 3.15055951,\n",
       "        2.09739707],\n",
       "       [1.52755549, 2.26168841, 0.        , ..., 2.39613957, 3.24280591,\n",
       "        1.28951587],\n",
       "       ...,\n",
       "       [1.6039788 , 0.93299896, 2.39613957, ..., 0.        , 3.48370099,\n",
       "        2.1326725 ],\n",
       "       [3.03495824, 3.15055951, 3.24280591, ..., 3.48370099, 0.        ,\n",
       "        3.52339443],\n",
       "       [1.64495744, 2.09739707, 1.28951587, ..., 2.1326725 , 3.52339443,\n",
       "        0.        ]])"
      ]
     },
     "execution_count": 67,
     "metadata": {},
     "output_type": "execute_result"
    }
   ],
   "source": [
    "S_robust_estimation = S_robust(X=data_np, method=\"trimmed\", epsilon=0.05, \n",
    "                               n_iters=20, alpha=0.07, weights=None)\n",
    "\n",
    "\n",
    "robust_maha_dist_matrix(X=data_np, S_robust=S_robust_estimation)"
   ]
  },
  {
   "cell_type": "code",
   "execution_count": null,
   "metadata": {},
   "outputs": [
    {
     "data": {
      "text/plain": [
       "array([[0.        , 1.04388227, 1.52580544, ..., 1.58209452, 2.9790249 ,\n",
       "        1.62043215],\n",
       "       [1.04388227, 0.        , 2.1919243 , ..., 0.97608111, 3.02378791,\n",
       "        2.0634736 ],\n",
       "       [1.52580544, 2.1919243 , 0.        , ..., 2.25328446, 3.36744463,\n",
       "        1.21972552],\n",
       "       ...,\n",
       "       [1.58209452, 0.97608111, 2.25328446, ..., 0.        , 3.40773227,\n",
       "        2.09940077],\n",
       "       [2.9790249 , 3.02378791, 3.36744463, ..., 3.40773227, 0.        ,\n",
       "        3.42871647],\n",
       "       [1.62043215, 2.0634736 , 1.21972552, ..., 2.09940077, 3.42871647,\n",
       "        0.        ]])"
      ]
     },
     "execution_count": 54,
     "metadata": {},
     "output_type": "execute_result"
    }
   ],
   "source": [
    "S_robust_estimation = S_robust(X=data_pd[quant_cols], method=\"winsorized\", epsilon=0.05, \n",
    "                    n_iters=20, alpha=0.07, weights=None)\n",
    "\n",
    "\n",
    "robust_maha_dist_matrix(X=data_pd[quant_cols], S_robust=S_robust_estimation)"
   ]
  },
  {
   "cell_type": "code",
   "execution_count": null,
   "metadata": {},
   "outputs": [
    {
     "data": {
      "text/plain": [
       "array([[0.        , 1.04388227, 1.52580544, ..., 1.58209452, 2.9790249 ,\n",
       "        1.62043215],\n",
       "       [1.04388227, 0.        , 2.1919243 , ..., 0.97608111, 3.02378791,\n",
       "        2.0634736 ],\n",
       "       [1.52580544, 2.1919243 , 0.        , ..., 2.25328446, 3.36744463,\n",
       "        1.21972552],\n",
       "       ...,\n",
       "       [1.58209452, 0.97608111, 2.25328446, ..., 0.        , 3.40773227,\n",
       "        2.09940077],\n",
       "       [2.9790249 , 3.02378791, 3.36744463, ..., 3.40773227, 0.        ,\n",
       "        3.42871647],\n",
       "       [1.62043215, 2.0634736 , 1.21972552, ..., 2.09940077, 3.42871647,\n",
       "        0.        ]])"
      ]
     },
     "execution_count": 64,
     "metadata": {},
     "output_type": "execute_result"
    }
   ],
   "source": [
    "S_robust_estimation = S_robust(X=data_pl[quant_cols], method=\"winsorized\", epsilon=0.05, \n",
    "                               n_iters=20, alpha=0.07, weights=None)\n",
    "\n",
    "robust_maha_dist_matrix(X=data_pl[quant_cols], S_robust=S_robust_estimation)"
   ]
  },
  {
   "cell_type": "code",
   "execution_count": null,
   "metadata": {},
   "outputs": [
    {
     "data": {
      "text/plain": [
       "array([[0.        , 1.04388227, 1.52580544, ..., 1.58209452, 2.9790249 ,\n",
       "        1.62043215],\n",
       "       [1.04388227, 0.        , 2.1919243 , ..., 0.97608111, 3.02378791,\n",
       "        2.0634736 ],\n",
       "       [1.52580544, 2.1919243 , 0.        , ..., 2.25328446, 3.36744463,\n",
       "        1.21972552],\n",
       "       ...,\n",
       "       [1.58209452, 0.97608111, 2.25328446, ..., 0.        , 3.40773227,\n",
       "        2.09940077],\n",
       "       [2.9790249 , 3.02378791, 3.36744463, ..., 3.40773227, 0.        ,\n",
       "        3.42871647],\n",
       "       [1.62043215, 2.0634736 , 1.21972552, ..., 2.09940077, 3.42871647,\n",
       "        0.        ]])"
      ]
     },
     "execution_count": 66,
     "metadata": {},
     "output_type": "execute_result"
    }
   ],
   "source": [
    "S_robust_estimation = S_robust(X=data_np, method=\"winsorized\", epsilon=0.05, \n",
    "                    n_iters=20, alpha=0.07, weights=None)\n",
    "\n",
    "robust_maha_dist_matrix(X=data_np, S_robust=S_robust_estimation)"
   ]
  },
  {
   "cell_type": "code",
   "execution_count": null,
   "metadata": {},
   "outputs": [
    {
     "data": {
      "text/plain": [
       "array([[0.        , 0.92229336, 0.97058617, ..., 1.78839817, 3.60593355,\n",
       "        1.04126762],\n",
       "       [0.92229336, 0.        , 1.02265462, ..., 1.0354775 , 3.3402759 ,\n",
       "        1.01713595],\n",
       "       [0.97058617, 1.02265462, 0.        , ..., 1.4612904 , 3.24480033,\n",
       "        0.62190049],\n",
       "       ...,\n",
       "       [1.78839817, 1.0354775 , 1.4612904 , ..., 0.        , 3.09615949,\n",
       "        1.35288379],\n",
       "       [3.60593355, 3.3402759 , 3.24480033, ..., 3.09615949, 0.        ,\n",
       "        3.39834726],\n",
       "       [1.04126762, 1.01713595, 0.62190049, ..., 1.35288379, 3.39834726,\n",
       "        0.        ]])"
      ]
     },
     "execution_count": 10,
     "metadata": {},
     "output_type": "execute_result"
    }
   ],
   "source": [
    "S_robust_estimation = S_robust(X=data_pd[quant_cols], method=\"MAD\", epsilon=0.05, \n",
    "                               n_iters=20, alpha=None, weights=None)\n",
    "\n",
    "\n",
    "robust_maha_dist_matrix(X=data_pd[quant_cols], S_robust=S_robust_estimation)"
   ]
  },
  {
   "cell_type": "code",
   "execution_count": null,
   "metadata": {},
   "outputs": [
    {
     "data": {
      "text/plain": [
       "array([[0.        , 0.92229336, 0.97058617, ..., 1.78839817, 3.60593355,\n",
       "        1.04126762],\n",
       "       [0.92229336, 0.        , 1.02265462, ..., 1.0354775 , 3.3402759 ,\n",
       "        1.01713595],\n",
       "       [0.97058617, 1.02265462, 0.        , ..., 1.4612904 , 3.24480033,\n",
       "        0.62190049],\n",
       "       ...,\n",
       "       [1.78839817, 1.0354775 , 1.4612904 , ..., 0.        , 3.09615949,\n",
       "        1.35288379],\n",
       "       [3.60593355, 3.3402759 , 3.24480033, ..., 3.09615949, 0.        ,\n",
       "        3.39834726],\n",
       "       [1.04126762, 1.01713595, 0.62190049, ..., 1.35288379, 3.39834726,\n",
       "        0.        ]])"
      ]
     },
     "execution_count": 73,
     "metadata": {},
     "output_type": "execute_result"
    }
   ],
   "source": [
    "S_robust_estimation = S_robust(X=data_pl[quant_cols], method=\"MAD\", epsilon=0.05, \n",
    "                               n_iters=20, alpha=None, weights=None)\n",
    "\n",
    "\n",
    "robust_maha_dist_matrix(X=data_pl[quant_cols], S_robust=S_robust_estimation)"
   ]
  },
  {
   "cell_type": "code",
   "execution_count": null,
   "metadata": {},
   "outputs": [
    {
     "data": {
      "text/plain": [
       "array([[0.        , 0.92229336, 0.97058617, ..., 1.78839817, 3.60593355,\n",
       "        1.04126762],\n",
       "       [0.92229336, 0.        , 1.02265462, ..., 1.0354775 , 3.3402759 ,\n",
       "        1.01713595],\n",
       "       [0.97058617, 1.02265462, 0.        , ..., 1.4612904 , 3.24480033,\n",
       "        0.62190049],\n",
       "       ...,\n",
       "       [1.78839817, 1.0354775 , 1.4612904 , ..., 0.        , 3.09615949,\n",
       "        1.35288379],\n",
       "       [3.60593355, 3.3402759 , 3.24480033, ..., 3.09615949, 0.        ,\n",
       "        3.39834726],\n",
       "       [1.04126762, 1.01713595, 0.62190049, ..., 1.35288379, 3.39834726,\n",
       "        0.        ]])"
      ]
     },
     "execution_count": 72,
     "metadata": {},
     "output_type": "execute_result"
    }
   ],
   "source": [
    "S_robust_estimation = S_robust(X=data_np, method=\"MAD\", epsilon=0.05, \n",
    "                               n_iters=20, alpha=None, weights=None)\n",
    "\n",
    "\n",
    "robust_maha_dist_matrix(X=data_np, S_robust=S_robust_estimation)"
   ]
  },
  {
   "cell_type": "markdown",
   "metadata": {},
   "source": [
    "## `robust_maha_dist`"
   ]
  },
  {
   "cell_type": "code",
   "execution_count": null,
   "metadata": {},
   "outputs": [],
   "source": [
    "from PyDistances.quantitative import robust_maha_dist"
   ]
  },
  {
   "cell_type": "code",
   "execution_count": null,
   "metadata": {},
   "outputs": [
    {
     "data": {
      "text/plain": [
       "np.float64(0.45774797743084744)"
      ]
     },
     "execution_count": 58,
     "metadata": {},
     "output_type": "execute_result"
    }
   ],
   "source": [
    "S_robust_estimation = S_robust(X=data_pd[quant_cols], method=\"trimmed\", epsilon=0.05, \n",
    "                               n_iters=20, alpha=0.07, weights=None)\n",
    "\n",
    "robust_maha_dist(xi=xi_pd, xr=xr_pd, S_robust=S_robust_estimation)"
   ]
  },
  {
   "cell_type": "code",
   "execution_count": null,
   "metadata": {},
   "outputs": [
    {
     "data": {
      "text/plain": [
       "np.float64(0.45545084258890073)"
      ]
     },
     "execution_count": 59,
     "metadata": {},
     "output_type": "execute_result"
    }
   ],
   "source": [
    "S_robust_estimation = S_robust(X=data_pd[quant_cols], method=\"winsorized\", epsilon=0.05, \n",
    "                               n_iters=20, alpha=0.07, weights=None)\n",
    "\n",
    "robust_maha_dist(xi=xi_pd, xr=xr_pd, S_robust=S_robust_estimation)"
   ]
  },
  {
   "cell_type": "code",
   "execution_count": null,
   "metadata": {},
   "outputs": [
    {
     "data": {
      "text/plain": [
       "np.float64(0.2838731015529872)"
      ]
     },
     "execution_count": 61,
     "metadata": {},
     "output_type": "execute_result"
    }
   ],
   "source": [
    "S_robust_estimation = S_robust(X=data_pd[quant_cols], method=\"MAD\", epsilon=0.05, \n",
    "                               n_iters=20, alpha=None, weights=None)\n",
    "\n",
    "robust_maha_dist(xi=xi_pd, xr=xr_pd, S_robust=S_robust_estimation)"
   ]
  },
  {
   "cell_type": "code",
   "execution_count": null,
   "metadata": {},
   "outputs": [
    {
     "data": {
      "text/plain": [
       "np.float64(0.2838731015529872)"
      ]
     },
     "execution_count": 62,
     "metadata": {},
     "output_type": "execute_result"
    }
   ],
   "source": [
    "S_robust_estimation = S_robust(X=data_pd[quant_cols], method=\"MAD\", epsilon=0.05, \n",
    "                               n_iters=20, alpha=None, weights=None)\n",
    "\n",
    "robust_maha_dist(xi=xi_pl, xr=xr_pl, S_robust=S_robust_estimation)"
   ]
  },
  {
   "cell_type": "code",
   "execution_count": null,
   "metadata": {},
   "outputs": [
    {
     "data": {
      "text/plain": [
       "np.float64(0.2838731015529872)"
      ]
     },
     "execution_count": 63,
     "metadata": {},
     "output_type": "execute_result"
    }
   ],
   "source": [
    "S_robust_estimation = S_robust(X=data_pd[quant_cols], method=\"MAD\", epsilon=0.05, \n",
    "                               n_iters=20, alpha=None, weights=None)\n",
    "\n",
    "robust_maha_dist(xi=xi_np, xr=xr_np, S_robust=S_robust_estimation)"
   ]
  }
 ],
 "metadata": {
  "kernelspec": {
   "display_name": ".venv",
   "language": "python",
   "name": "python3"
  },
  "language_info": {
   "codemirror_mode": {
    "name": "ipython",
    "version": 3
   },
   "file_extension": ".py",
   "mimetype": "text/x-python",
   "name": "python",
   "nbconvert_exporter": "python",
   "pygments_lexer": "ipython3",
   "version": "3.12.0"
  }
 },
 "nbformat": 4,
 "nbformat_minor": 2
}
